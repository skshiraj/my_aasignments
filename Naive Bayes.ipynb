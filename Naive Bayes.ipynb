{
 "cells": [
  {
   "cell_type": "markdown",
   "metadata": {
    "colab_type": "text",
    "id": "Dnubs-Nnb3cw"
   },
   "source": [
    "# Assignment 6: Apply NB"
   ]
  },
  {
   "cell_type": "markdown",
   "metadata": {
    "colab_type": "text",
    "id": "12krXa2pb3c1"
   },
   "source": [
    "<ol>\n",
    "    <li><strong>Apply Multinomial NB on these feature sets</strong>\n",
    "        <ul>\n",
    "            <li><font color='red'>Set 1</font>: categorical, numerical features + preprocessed_eassay (BOW)</li>\n",
    "            <li><font color='red'>Set 2</font>: categorical, numerical features + preprocessed_eassay (TFIDF)</li>\n",
    "        </ul>\n",
    "    </li>\n",
    "    <li><strong>The hyper paramter tuning(find best alpha:smoothing parameter)</strong>\n",
    "        <ul>\n",
    "    <li>Find the best hyper parameter which will give the maximum <a href='https://www.appliedaicourse.com/course/applied-ai-course-online/lessons/receiver-operating-characteristic-curve-roc-curve-and-auc-1/'>AUC</a> value</li>\n",
    "    <li>find the best hyper paramter using k-fold cross validation(use GridsearchCV or RandomsearchCV)/simple cross validation data (write for loop to iterate over hyper parameter values)</li>\n",
    "    <li></li>\n",
    "        </ul>\n",
    "    </li>\n",
    "    <li>\n",
    "    <strong>Representation of results</strong>\n",
    "        <ul>\n",
    "    <li>You need to plot the performance of model both on train data and cross validation data for each hyper parameter, like shown in the figure\n",
    "    <img src='https://i.imgur.com/hUv6aEy.jpg' width=300px></li>\n",
    "    <li>Once after you found the best hyper parameter, you need to train your model with it, and find the AUC on test data and plot the ROC curve on both train and test.\n",
    "    <img src='https://i.imgur.com/wMQDTFe.jpg' width=300px></li>\n",
    "    <li>Along with plotting ROC curve, you need to print the <a href='https://www.appliedaicourse.com/course/applied-ai-course-online/lessons/confusion-matrix-tpr-fpr-fnr-tnr-1/'>confusion matrix</a> with predicted and original labels of test data points\n",
    "    <img src='https://i.imgur.com/IdN5Ctv.png' width=300px></li>\n",
    "        </ul>\n",
    "    </li>\n",
    "    <li>\n",
    "fine the top 20 features from either from feature <font color='red'>Set 1</font> or feature <font color='red'>Set 2</font> using absolute values of `feature_log_prob_ ` parameter of `MultinomialNB` \n",
    "(https://scikit-learn.org/stable/modules/generated/sklearn.naive_bayes.MultinomialNB.html) and print their corresponding feature names\n",
    "    </li>\n",
    "    <li>You need to summarize the results at the end of the notebook, summarize it in the table format\n",
    "        <img src='http://i.imgur.com/YVpIGGE.jpg' width=400px>\n",
    "    </li>\n",
    "</ol>"
   ]
  },
  {
   "cell_type": "markdown",
   "metadata": {
    "colab_type": "text",
    "id": "inzYCIaib3c3"
   },
   "source": [
    "# Naive Bayes"
   ]
  },
  {
   "cell_type": "markdown",
   "metadata": {},
   "source": [
    "## 1)Apply Multinomial NB on these feature sets:SET1 and SET2"
   ]
  },
  {
   "cell_type": "markdown",
   "metadata": {
    "colab_type": "text",
    "id": "FYqCIxzFb3c5"
   },
   "source": [
    "### 1.1 Loading Data"
   ]
  },
  {
   "cell_type": "code",
   "execution_count": 1,
   "metadata": {},
   "outputs": [
    {
     "name": "stderr",
     "output_type": "stream",
     "text": [
      "C:\\Users\\vishal\\Anaconda3\\lib\\site-packages\\sklearn\\cross_validation.py:41: DeprecationWarning: This module was deprecated in version 0.18 in favor of the model_selection module into which all the refactored classes and functions are moved. Also note that the interface of the new CV iterators are different from that of this module. This module will be removed in 0.20.\n",
      "  \"This module will be removed in 0.20.\", DeprecationWarning)\n"
     ]
    }
   ],
   "source": [
    "import numpy as np\n",
    "import pandas as pd\n",
    "import matplotlib.pyplot as plt\n",
    "from sklearn.cross_validation import train_test_split\n",
    "from sklearn.neighbors import KNeighborsClassifier\n",
    "from sklearn.metrics import accuracy_score\n",
    "from sklearn.cross_validation import cross_val_score\n",
    "from collections import Counter\n",
    "from sklearn.metrics import accuracy_score\n",
    "from sklearn import cross_validation\n",
    "import warnings\n",
    "import numpy as np\n",
    "import matplotlib.pyplot as plt\n",
    "from sklearn import datasets, neighbors\n",
    "# https://anaconda.org/conda-forge/mlxtend\n",
    "from mlxtend.plotting import plot_decision_regions\n",
    "import pandas as pd\n",
    "from sklearn.feature_extraction.text import TfidfVectorizer\n",
    "from sklearn.feature_extraction.text import CountVectorizer\n",
    "from sklearn.metrics import confusion_matrix\n",
    "from sklearn import metrics\n",
    "from sklearn.metrics import roc_curve, auc"
   ]
  },
  {
   "cell_type": "code",
   "execution_count": 2,
   "metadata": {
    "colab": {},
    "colab_type": "code",
    "id": "dA1jknyqb3c_"
   },
   "outputs": [],
   "source": [
    "import pandas\n",
    "data = pandas.read_csv('preprocessed_data.csv') "
   ]
  },
  {
   "cell_type": "code",
   "execution_count": 3,
   "metadata": {},
   "outputs": [
    {
     "data": {
      "text/html": [
       "<div>\n",
       "<style scoped>\n",
       "    .dataframe tbody tr th:only-of-type {\n",
       "        vertical-align: middle;\n",
       "    }\n",
       "\n",
       "    .dataframe tbody tr th {\n",
       "        vertical-align: top;\n",
       "    }\n",
       "\n",
       "    .dataframe thead th {\n",
       "        text-align: right;\n",
       "    }\n",
       "</style>\n",
       "<table border=\"1\" class=\"dataframe\">\n",
       "  <thead>\n",
       "    <tr style=\"text-align: right;\">\n",
       "      <th></th>\n",
       "      <th>school_state</th>\n",
       "      <th>teacher_prefix</th>\n",
       "      <th>project_grade_category</th>\n",
       "      <th>teacher_number_of_previously_posted_projects</th>\n",
       "      <th>project_is_approved</th>\n",
       "      <th>clean_categories</th>\n",
       "      <th>clean_subcategories</th>\n",
       "      <th>essay</th>\n",
       "      <th>price</th>\n",
       "    </tr>\n",
       "  </thead>\n",
       "  <tbody>\n",
       "    <tr>\n",
       "      <th>0</th>\n",
       "      <td>ca</td>\n",
       "      <td>mrs</td>\n",
       "      <td>grades_prek_2</td>\n",
       "      <td>53</td>\n",
       "      <td>1</td>\n",
       "      <td>math_science</td>\n",
       "      <td>appliedsciences health_lifescience</td>\n",
       "      <td>i fortunate enough use fairy tale stem kits cl...</td>\n",
       "      <td>725.05</td>\n",
       "    </tr>\n",
       "    <tr>\n",
       "      <th>1</th>\n",
       "      <td>ut</td>\n",
       "      <td>ms</td>\n",
       "      <td>grades_3_5</td>\n",
       "      <td>4</td>\n",
       "      <td>1</td>\n",
       "      <td>specialneeds</td>\n",
       "      <td>specialneeds</td>\n",
       "      <td>imagine 8 9 years old you third grade classroo...</td>\n",
       "      <td>213.03</td>\n",
       "    </tr>\n",
       "  </tbody>\n",
       "</table>\n",
       "</div>"
      ],
      "text/plain": [
       "  school_state teacher_prefix project_grade_category  \\\n",
       "0           ca            mrs          grades_prek_2   \n",
       "1           ut             ms             grades_3_5   \n",
       "\n",
       "   teacher_number_of_previously_posted_projects  project_is_approved  \\\n",
       "0                                            53                    1   \n",
       "1                                             4                    1   \n",
       "\n",
       "  clean_categories                 clean_subcategories  \\\n",
       "0     math_science  appliedsciences health_lifescience   \n",
       "1     specialneeds                        specialneeds   \n",
       "\n",
       "                                               essay   price  \n",
       "0  i fortunate enough use fairy tale stem kits cl...  725.05  \n",
       "1  imagine 8 9 years old you third grade classroo...  213.03  "
      ]
     },
     "execution_count": 3,
     "metadata": {},
     "output_type": "execute_result"
    }
   ],
   "source": [
    "data.head(2)"
   ]
  },
  {
   "cell_type": "code",
   "execution_count": 4,
   "metadata": {},
   "outputs": [
    {
     "data": {
      "text/html": [
       "<div>\n",
       "<style scoped>\n",
       "    .dataframe tbody tr th:only-of-type {\n",
       "        vertical-align: middle;\n",
       "    }\n",
       "\n",
       "    .dataframe tbody tr th {\n",
       "        vertical-align: top;\n",
       "    }\n",
       "\n",
       "    .dataframe thead th {\n",
       "        text-align: right;\n",
       "    }\n",
       "</style>\n",
       "<table border=\"1\" class=\"dataframe\">\n",
       "  <thead>\n",
       "    <tr style=\"text-align: right;\">\n",
       "      <th></th>\n",
       "      <th>school_state</th>\n",
       "      <th>teacher_prefix</th>\n",
       "      <th>project_grade_category</th>\n",
       "      <th>teacher_number_of_previously_posted_projects</th>\n",
       "      <th>clean_categories</th>\n",
       "      <th>clean_subcategories</th>\n",
       "      <th>essay</th>\n",
       "      <th>price</th>\n",
       "    </tr>\n",
       "  </thead>\n",
       "  <tbody>\n",
       "    <tr>\n",
       "      <th>0</th>\n",
       "      <td>ca</td>\n",
       "      <td>mrs</td>\n",
       "      <td>grades_prek_2</td>\n",
       "      <td>53</td>\n",
       "      <td>math_science</td>\n",
       "      <td>appliedsciences health_lifescience</td>\n",
       "      <td>i fortunate enough use fairy tale stem kits cl...</td>\n",
       "      <td>725.05</td>\n",
       "    </tr>\n",
       "    <tr>\n",
       "      <th>1</th>\n",
       "      <td>ut</td>\n",
       "      <td>ms</td>\n",
       "      <td>grades_3_5</td>\n",
       "      <td>4</td>\n",
       "      <td>specialneeds</td>\n",
       "      <td>specialneeds</td>\n",
       "      <td>imagine 8 9 years old you third grade classroo...</td>\n",
       "      <td>213.03</td>\n",
       "    </tr>\n",
       "  </tbody>\n",
       "</table>\n",
       "</div>"
      ],
      "text/plain": [
       "  school_state teacher_prefix project_grade_category  \\\n",
       "0           ca            mrs          grades_prek_2   \n",
       "1           ut             ms             grades_3_5   \n",
       "\n",
       "   teacher_number_of_previously_posted_projects clean_categories  \\\n",
       "0                                            53     math_science   \n",
       "1                                             4     specialneeds   \n",
       "\n",
       "                  clean_subcategories  \\\n",
       "0  appliedsciences health_lifescience   \n",
       "1                        specialneeds   \n",
       "\n",
       "                                               essay   price  \n",
       "0  i fortunate enough use fairy tale stem kits cl...  725.05  \n",
       "1  imagine 8 9 years old you third grade classroo...  213.03  "
      ]
     },
     "execution_count": 4,
     "metadata": {},
     "output_type": "execute_result"
    }
   ],
   "source": [
    "X = data.drop(['project_is_approved'], axis=1)\n",
    "y = data['project_is_approved'].values\n",
    "X.head(2)"
   ]
  },
  {
   "cell_type": "markdown",
   "metadata": {
    "colab_type": "text",
    "id": "WtVV13Fyb3dH"
   },
   "source": [
    "### 1.2 Splitting data into Train and cross validation(or test): Stratified Sampling"
   ]
  },
  {
   "cell_type": "code",
   "execution_count": 5,
   "metadata": {
    "colab": {},
    "colab_type": "code",
    "id": "i-PyprDNb3dI"
   },
   "outputs": [],
   "source": [
    "# please write all the code with proper documentation, and proper titles for each subsection\n",
    "# go through documentations and blogs before you start coding\n",
    "# first figure out what to do, and then think about how to do.\n",
    "# reading and understanding error messages will be very much helpfull in debugging your code\n",
    "# when you plot any graph make sure you use \n",
    "    # a. Title, that describes your plot, this will be very helpful to the reader\n",
    "    # b. Legends if needed\n",
    "    # c. X-axis label\n",
    "    # d. Y-axis label"
   ]
  },
  {
   "cell_type": "code",
   "execution_count": 6,
   "metadata": {},
   "outputs": [],
   "source": [
    "# train test split\n",
    "from sklearn.model_selection import train_test_split\n",
    "\n",
    "X_train, X_test, y_train, y_test = train_test_split(X, y, test_size=0.33, stratify=y)\n",
    "X_train, X_cv, y_train, y_cv = train_test_split(X_train, y_train, test_size=0.33, stratify=y_train)"
   ]
  },
  {
   "cell_type": "markdown",
   "metadata": {
    "colab_type": "text",
    "id": "EnZwVNULb3dO"
   },
   "source": [
    "### 1.3 Make Data Model Ready: encoding eassay, and project_title"
   ]
  },
  {
   "cell_type": "code",
   "execution_count": 7,
   "metadata": {
    "colab": {},
    "colab_type": "code",
    "id": "-SczZKiab3dR"
   },
   "outputs": [],
   "source": [
    "# please write all the code with proper documentation, and proper titles for each subsection\n",
    "# go through documentations and blogs before you start coding\n",
    "# first figure out what to do, and then think about how to do.\n",
    "# reading and understanding error messages will be very much helpfull in debugging your code\n",
    "# make sure you featurize train and test data separatly\n",
    "\n",
    "# when you plot any graph make sure you use \n",
    "    # a. Title, that describes your plot, this will be very helpful to the reader\n",
    "    # b. Legends if needed\n",
    "    # c. X-axis label\n",
    "    # d. Y-axis label"
   ]
  },
  {
   "cell_type": "markdown",
   "metadata": {},
   "source": [
    "#### 1.3.1) Bag of Words"
   ]
  },
  {
   "cell_type": "code",
   "execution_count": 8,
   "metadata": {},
   "outputs": [
    {
     "name": "stdout",
     "output_type": "stream",
     "text": [
      "(49041, 41137) (49041,)\n",
      "(24155, 41137) (24155,)\n",
      "(36052, 41137) (36052,)\n"
     ]
    }
   ],
   "source": [
    "vectorizer = CountVectorizer()\n",
    "vectorizer.fit(X_train['essay'].values)\n",
    "\n",
    "X_tr_essay_bow = vectorizer.transform(X_train['essay'].values)\n",
    "X_cv_essay_bow = vectorizer.transform(X_cv['essay'].values)\n",
    "X_test_essay_bow = vectorizer.transform(X_test['essay'].values)\n",
    "\n",
    "print(X_tr_essay_bow.shape, y_train.shape)\n",
    "print(X_cv_essay_bow.shape, y_cv.shape)\n",
    "print(X_test_essay_bow.shape, y_test.shape)"
   ]
  },
  {
   "cell_type": "markdown",
   "metadata": {},
   "source": [
    "#### 1.3.2)TFIDF"
   ]
  },
  {
   "cell_type": "code",
   "execution_count": 9,
   "metadata": {},
   "outputs": [
    {
     "name": "stdout",
     "output_type": "stream",
     "text": [
      "(49041, 41137) (49041,)\n",
      "(24155, 41137) (24155,)\n",
      "(36052, 41137) (36052,)\n"
     ]
    }
   ],
   "source": [
    "vectorizer = TfidfVectorizer()\n",
    "vectorizer.fit(X_train['essay'].values)\n",
    "\n",
    "X_tr_essay_tfidf = vectorizer.transform(X_train['essay'].values)\n",
    "X_cv_essay_tfidf = vectorizer.transform(X_cv['essay'].values)\n",
    "X_test_essay_tfidf = vectorizer.transform(X_test['essay'].values)\n",
    "\n",
    "print(X_tr_essay_tfidf.shape, y_train.shape)\n",
    "print(X_cv_essay_tfidf.shape, y_cv.shape)\n",
    "print(X_test_essay_tfidf.shape, y_test.shape)"
   ]
  },
  {
   "cell_type": "markdown",
   "metadata": {
    "colab_type": "text",
    "id": "bGy86kgHb3dX"
   },
   "source": [
    "### 1.4 Make Data Model Ready: encoding numerical, categorical features"
   ]
  },
  {
   "cell_type": "code",
   "execution_count": 10,
   "metadata": {
    "colab": {},
    "colab_type": "code",
    "id": "EfXkofX1b3da"
   },
   "outputs": [],
   "source": [
    "# please write all the code with proper documentation, and proper titles for each subsection\n",
    "# go through documentations and blogs before you start coding \n",
    "# first figure out what to do, and then think about how to do.\n",
    "# reading and understanding error messages will be very much helpfull in debugging your code\n",
    "# make sure you featurize train and test data separatly\n",
    "\n",
    "# when you plot any graph make sure you use \n",
    "    # a. Title, that describes your plot, this will be very helpful to the reader\n",
    "    # b. Legends if needed\n",
    "    # c. X-axis label\n",
    "    # d. Y-axis label"
   ]
  },
  {
   "cell_type": "markdown",
   "metadata": {},
   "source": [
    "#### 1.4.1)Categorical features"
   ]
  },
  {
   "cell_type": "code",
   "execution_count": 11,
   "metadata": {},
   "outputs": [
    {
     "name": "stdout",
     "output_type": "stream",
     "text": [
      "(49041, 51) (49041,)\n",
      "(24155, 51) (24155,)\n",
      "(36052, 51) (36052,)\n"
     ]
    }
   ],
   "source": [
    "# school_state\n",
    "vectorizer = CountVectorizer()\n",
    "vectorizer.fit(X_train['school_state'].values)\n",
    "\n",
    "X_tr_state = vectorizer.transform(X_train['school_state'].values)\n",
    "X_cv_state = vectorizer.transform(X_cv['school_state'].values)\n",
    "X_test_state = vectorizer.transform(X_test['school_state'].values)\n",
    "\n",
    "print(X_tr_state.shape, y_train.shape)\n",
    "print(X_cv_state.shape, y_cv.shape)\n",
    "print(X_test_state.shape, y_test.shape)"
   ]
  },
  {
   "cell_type": "code",
   "execution_count": 12,
   "metadata": {},
   "outputs": [
    {
     "name": "stdout",
     "output_type": "stream",
     "text": [
      "(49041, 4) (49041,)\n",
      "(24155, 4) (24155,)\n",
      "(36052, 4) (36052,)\n"
     ]
    }
   ],
   "source": [
    "# project_grade_category\n",
    "vectorizer = CountVectorizer()\n",
    "vectorizer.fit(X_train['project_grade_category'].values)\n",
    "\n",
    "X_tr_grade = vectorizer.transform(X_train['project_grade_category'].values)\n",
    "X_cv_grade = vectorizer.transform(X_cv['project_grade_category'].values)\n",
    "X_test_grade = vectorizer.transform(X_test['project_grade_category'].values)\n",
    "\n",
    "print(X_tr_grade.shape, y_train.shape)\n",
    "print(X_cv_grade.shape, y_cv.shape)\n",
    "print(X_test_grade.shape, y_test.shape)\n"
   ]
  },
  {
   "cell_type": "code",
   "execution_count": 13,
   "metadata": {},
   "outputs": [
    {
     "name": "stdout",
     "output_type": "stream",
     "text": [
      "(49041, 5) (49041,)\n",
      "(24155, 5) (24155,)\n",
      "(36052, 5) (36052,)\n"
     ]
    }
   ],
   "source": [
    "# teacher_prefix\n",
    "vectorizer = CountVectorizer()\n",
    "vectorizer.fit(X_train['teacher_prefix'].values)\n",
    "X_tr_teacher_prefix = vectorizer.transform(X_train['teacher_prefix'].values)\n",
    "X_cv_teacher_prefix = vectorizer.transform(X_cv['teacher_prefix'].values)\n",
    "X_test_teacher_prefix = vectorizer.transform(X_test['teacher_prefix'].values)\n",
    "\n",
    "print(X_tr_teacher_prefix.shape, y_train.shape)\n",
    "print(X_cv_teacher_prefix.shape, y_cv.shape)\n",
    "print(X_test_teacher_prefix.shape, y_test.shape)\n"
   ]
  },
  {
   "cell_type": "markdown",
   "metadata": {},
   "source": [
    "#### 1.4.2)Text Features"
   ]
  },
  {
   "cell_type": "code",
   "execution_count": 14,
   "metadata": {},
   "outputs": [],
   "source": [
    "# clean_categories\n",
    "\n",
    "# count of all the words in corpus python: https://stackoverflow.com/a/22898595/4084039\n",
    "from collections import Counter\n",
    "my_counter = Counter()\n",
    "for word in X_train['clean_categories']:\n",
    "    my_counter.update(word.split())\n",
    "\n",
    "# dict sort by value python: https://stackoverflow.com/a/613218/4084039\n",
    "cat_dict = dict(my_counter)\n",
    "sorted_cat_dict = dict(sorted(cat_dict.items(), key=lambda kv: kv[1]))"
   ]
  },
  {
   "cell_type": "code",
   "execution_count": 15,
   "metadata": {},
   "outputs": [
    {
     "name": "stdout",
     "output_type": "stream",
     "text": [
      "(49041, 9) (49041,)\n",
      "(24155, 9) (24155,)\n",
      "(36052, 9) (36052,)\n"
     ]
    }
   ],
   "source": [
    "vectorizer = CountVectorizer(vocabulary=list(sorted_cat_dict.keys()))\n",
    "vectorizer.fit(X_train['clean_categories'].values)\n",
    "\n",
    "X_tr_clean_categories = vectorizer.transform(X_train['clean_categories'].values)\n",
    "X_cv_clean_categories = vectorizer.transform(X_cv['clean_categories'].values)\n",
    "X_test_clean_categories = vectorizer.transform(X_test['clean_categories'].values)\n",
    "\n",
    "print(X_tr_clean_categories.shape, y_train.shape)\n",
    "print(X_cv_clean_categories.shape, y_cv.shape)\n",
    "print(X_test_clean_categories.shape, y_test.shape)                             "
   ]
  },
  {
   "cell_type": "code",
   "execution_count": 16,
   "metadata": {},
   "outputs": [],
   "source": [
    "# clean_subcategories\n",
    "# count of all the words in corpus python: https://stackoverflow.com/a/22898595/4084039\n",
    "from collections import Counter\n",
    "my_counter = Counter()\n",
    "for word in X_train['clean_subcategories']:\n",
    "    my_counter.update(word.split())\n",
    "\n",
    "# dict sort by value python: https://stackoverflow.com/a/613218/4084039\n",
    "cat_dict = dict(my_counter)\n",
    "sorted_cat_dict = dict(sorted(cat_dict.items(), key=lambda kv: kv[1]))"
   ]
  },
  {
   "cell_type": "code",
   "execution_count": 17,
   "metadata": {},
   "outputs": [
    {
     "name": "stdout",
     "output_type": "stream",
     "text": [
      "(49041, 30) (49041,)\n",
      "(24155, 30) (24155,)\n",
      "(36052, 30) (36052,)\n"
     ]
    }
   ],
   "source": [
    "vectorizer = CountVectorizer(vocabulary=list(sorted_cat_dict.keys()))\n",
    "vectorizer.fit(X_train['clean_subcategories'].values)\n",
    "\n",
    "X_tr_clean_subcategories = vectorizer.transform(X_train['clean_subcategories'].values)\n",
    "X_cv_clean_subcategories = vectorizer.transform(X_cv['clean_subcategories'].values)\n",
    "X_test_clean_subcategories = vectorizer.transform(X_test['clean_subcategories'].values)\n",
    "\n",
    "print(X_tr_clean_subcategories.shape, y_train.shape)\n",
    "print(X_cv_clean_subcategories.shape, y_cv.shape)\n",
    "print(X_test_clean_subcategories.shape, y_test.shape)                             "
   ]
  },
  {
   "cell_type": "markdown",
   "metadata": {},
   "source": [
    "#### 1.4.3)Numerical Features"
   ]
  },
  {
   "cell_type": "code",
   "execution_count": 18,
   "metadata": {},
   "outputs": [
    {
     "name": "stdout",
     "output_type": "stream",
     "text": [
      "After vectorizations\n",
      "(49041, 1) (49041,)\n",
      "(24155, 1) (24155,)\n",
      "(36052, 1) (36052,)\n"
     ]
    }
   ],
   "source": [
    "from sklearn.preprocessing import Normalizer\n",
    "\n",
    "# normalizer.fit(X_train['price'].values)\n",
    "# this will rise an error Expected 2D array, got 1D array instead: \n",
    "# array=[105.22 215.96  96.01 ... 368.98  80.53 709.67].\n",
    "# Reshape your data either using \n",
    "# array.reshape(-1, 1) if your data has a single feature \n",
    "# array.reshape(1, -1)  if it contains a single sample.\n",
    "normalizer = Normalizer()\n",
    "normalizer.fit(X_train['price'].values.reshape(1,-1))\n",
    "\n",
    "X_tr_price_norm = normalizer.transform(X_train['price'].values.reshape(1,-1))\n",
    "X_cv_price_norm = normalizer.transform(X_cv['price'].values.reshape(1,-1))\n",
    "X_test_price_norm = normalizer.transform(X_test['price'].values.reshape(1,-1))\n",
    "\n",
    "X_tr_price_norm = X_tr_price_norm.reshape(-1,1)\n",
    "X_cv_price_norm = X_cv_price_norm.reshape(-1,1)\n",
    "X_test_price_norm = X_test_price_norm.reshape(-1,1)\n",
    "\n",
    "print(\"After vectorizations\")\n",
    "print(X_tr_price_norm.shape, y_train.shape)\n",
    "print(X_cv_price_norm.shape, y_cv.shape)\n",
    "print(X_test_price_norm.shape, y_test.shape)"
   ]
  },
  {
   "cell_type": "code",
   "execution_count": 19,
   "metadata": {},
   "outputs": [
    {
     "name": "stdout",
     "output_type": "stream",
     "text": [
      "After vectorizations\n",
      "(49041, 1) (49041,)\n",
      "(24155, 1) (24155,)\n",
      "(36052, 1) (36052,)\n"
     ]
    }
   ],
   "source": [
    "from sklearn.preprocessing import Normalizer\n",
    "normalizer = Normalizer()\n",
    "# normalizer.fit(X_train['price'].values)\n",
    "# this will rise an error Expected 2D array, got 1D array instead: \n",
    "# array=[105.22 215.96  96.01 ... 368.98  80.53 709.67].\n",
    "# Reshape your data either using \n",
    "# array.reshape(-1, 1) if your data has a single feature \n",
    "# array.reshape(1, -1)  if it contains a single sample.\n",
    "normalizer.fit(X_train['teacher_number_of_previously_posted_projects'].values.reshape(1,-1))\n",
    "\n",
    "X_tr_teacher_number_of_previously_posted_projects_norm = normalizer.transform(X_train['teacher_number_of_previously_posted_projects'].values.reshape(1,-1))\n",
    "X_cv_teacher_number_of_previously_posted_projects_norm = normalizer.transform(X_cv['teacher_number_of_previously_posted_projects'].values.reshape(1,-1))\n",
    "X_test_teacher_number_of_previously_posted_projects_norm = normalizer.transform(X_test['teacher_number_of_previously_posted_projects'].values.reshape(1,-1))\n",
    "\n",
    "X_tr_teacher_number_of_previously_posted_projects_norm = X_tr_teacher_number_of_previously_posted_projects_norm.reshape(-1,1)\n",
    "X_cv_teacher_number_of_previously_posted_projects_norm = X_cv_teacher_number_of_previously_posted_projects_norm.reshape(-1,1)\n",
    "X_test_teacher_number_of_previously_posted_projects_norm = X_test_teacher_number_of_previously_posted_projects_norm.reshape(-1,1)\n",
    "\n",
    "print(\"After vectorizations\")\n",
    "print(X_tr_teacher_number_of_previously_posted_projects_norm.shape, y_train.shape)\n",
    "print(X_cv_teacher_number_of_previously_posted_projects_norm.shape, y_cv.shape)\n",
    "print(X_test_teacher_number_of_previously_posted_projects_norm.shape, y_test.shape)"
   ]
  },
  {
   "cell_type": "code",
   "execution_count": 20,
   "metadata": {},
   "outputs": [],
   "source": [
    "# SET 1\n",
    "# merge two sparse matrices: https://stackoverflow.com/a/19710648/4084039\n",
    "from scipy.sparse import hstack\n",
    "X_tr1 = hstack((X_tr_essay_bow, X_tr_state, X_tr_teacher_prefix, X_tr_grade,X_tr_clean_categories,X_tr_clean_subcategories,X_tr_price_norm,X_tr_teacher_number_of_previously_posted_projects_norm)).tocsr()\n",
    "X_cv1 = hstack((X_cv_essay_bow, X_cv_state, X_cv_teacher_prefix, X_cv_grade,X_cv_clean_categories,X_cv_clean_subcategories,X_cv_price_norm,X_cv_teacher_number_of_previously_posted_projects_norm)).tocsr()\n",
    "X_test1 = hstack((X_test_essay_bow, X_test_state, X_test_teacher_prefix, X_test_grade,X_test_clean_categories,X_test_clean_subcategories, X_test_price_norm,X_test_teacher_number_of_previously_posted_projects_norm)).tocsr()"
   ]
  },
  {
   "cell_type": "code",
   "execution_count": 21,
   "metadata": {},
   "outputs": [],
   "source": [
    "# SET 2\n",
    "# merge two sparse matrices: https://stackoverflow.com/a/19710648/4084039\n",
    "from scipy.sparse import hstack\n",
    "X_tr2 = hstack((X_tr_essay_tfidf, X_tr_state, X_tr_teacher_prefix, X_tr_grade,X_tr_clean_categories,X_tr_clean_subcategories,X_tr_price_norm,X_tr_teacher_number_of_previously_posted_projects_norm)).tocsr()\n",
    "X_cv2 = hstack((X_cv_essay_tfidf, X_cv_state, X_cv_teacher_prefix, X_cv_grade,X_cv_clean_categories,X_cv_clean_subcategories,X_cv_price_norm,X_cv_teacher_number_of_previously_posted_projects_norm)).tocsr()\n",
    "X_test2 = hstack((X_test_essay_tfidf, X_test_state, X_test_teacher_prefix, X_test_grade,X_test_clean_categories,X_test_clean_subcategories, X_test_price_norm,X_test_teacher_number_of_previously_posted_projects_norm)).tocsr()"
   ]
  },
  {
   "cell_type": "markdown",
   "metadata": {},
   "source": [
    "#### Applying Naive Bayes on SET 1"
   ]
  },
  {
   "cell_type": "code",
   "execution_count": 22,
   "metadata": {},
   "outputs": [
    {
     "name": "stdout",
     "output_type": "stream",
     "text": [
      "accuracy_score on cross validation dataset :  0.7959428689712275\n",
      "accuracy_score on test dataset :  0.7941029623876623\n"
     ]
    }
   ],
   "source": [
    "from sklearn.naive_bayes import MultinomialNB\n",
    "from sklearn.metrics import accuracy_score\n",
    "# https://www.analyticsvidhya.com/blog/2017/09/naive-bayes-explained/\n",
    "# https://scikit-learn.org/stable/modules/generated/sklearn.naive_bayes.MultinomialNB.html\n",
    "\n",
    "classifier = MultinomialNB()\n",
    "classifier.fit(X_tr1,y_train)\n",
    "\n",
    "# predicting on the cv data\n",
    "cv_predict1 = classifier.predict(X_cv1)\n",
    "cv_acc1 = accuracy_score(y_cv,cv_predict1)\n",
    "print('accuracy_score on cross validation dataset : ',cv_acc1)\n",
    "\n",
    "# predicting on the test data\n",
    "test_predict1 = classifier.predict(X_test1)\n",
    "test_acc1 = accuracy_score(y_test,test_predict1)\n",
    "print('accuracy_score on test dataset : ',test_acc1)"
   ]
  },
  {
   "cell_type": "markdown",
   "metadata": {},
   "source": [
    "#### Applying Naive Bayes on SET 2"
   ]
  },
  {
   "cell_type": "code",
   "execution_count": 23,
   "metadata": {},
   "outputs": [
    {
     "name": "stdout",
     "output_type": "stream",
     "text": [
      "accuracy_score on cross validation dataset :  0.8485199751604223\n",
      "accuracy_score on test dataset :  0.8485243537113059\n"
     ]
    }
   ],
   "source": [
    "# https://www.analyticsvidhya.com/blog/2017/09/naive-bayes-explained/\n",
    "# https://scikit-learn.org/stable/modules/generated/sklearn.naive_bayes.MultinomialNB.html\n",
    "# Applying Naive Bayes on SET 2\n",
    "classifier = MultinomialNB()\n",
    "classifier.fit(X_tr2,y_train)\n",
    "\n",
    "# predicting on the cv data\n",
    "cv_predict2 = classifier.predict(X_cv2)\n",
    "cv_acc2 = accuracy_score(y_cv,cv_predict2)\n",
    "print('accuracy_score on cross validation dataset : ',cv_acc2)\n",
    "\n",
    "# predicting on the test data\n",
    "test_predict2 = classifier.predict(X_test1)\n",
    "test_acc2 = accuracy_score(y_test,test_predict2)\n",
    "print('accuracy_score on test dataset : ',test_acc2)"
   ]
  },
  {
   "cell_type": "markdown",
   "metadata": {
    "colab_type": "text",
    "id": "yYHPYadYb3dh"
   },
   "source": [
    "## 2)The hyper paramter tuning(find best alpha:smoothing parameter)"
   ]
  },
  {
   "cell_type": "code",
   "execution_count": 24,
   "metadata": {
    "colab": {},
    "colab_type": "code",
    "id": "DNwqilFxb3di"
   },
   "outputs": [],
   "source": [
    "# please write all the code with proper documentation, and proper titles for each subsection\n",
    "# go through documentations and blogs before you start coding\n",
    "# first figure out what to do, and then think about how to do.\n",
    "# reading and understanding error messages will be very much helpfull in debugging your code\n",
    "# when you plot any graph make sure you use \n",
    "    # a. Title, that describes your plot, this will be very helpful to the reader\n",
    "    # b. Legends if needed\n",
    "    # c. X-axis label\n",
    "    # d. Y-axis label"
   ]
  },
  {
   "cell_type": "markdown",
   "metadata": {},
   "source": [
    "### 2.1)Finding best alpha for SET 1"
   ]
  },
  {
   "cell_type": "code",
   "execution_count": 25,
   "metadata": {},
   "outputs": [
    {
     "name": "stderr",
     "output_type": "stream",
     "text": [
      "100%|████████████████████████████████████████████████████████████████████████████████████| 6/6 [00:01<00:00,  4.69it/s]\n"
     ]
    }
   ],
   "source": [
    "import matplotlib.pyplot as plt\n",
    "from sklearn.naive_bayes import MultinomialNB\n",
    "from sklearn.metrics import roc_auc_score\n",
    "from tqdm import tqdm\n",
    "\n",
    "train_auc = []\n",
    "cv_auc = []\n",
    "alp = [0.0001,0.001,0.01,0.1,1,10]\n",
    "for i in tqdm(alp):\n",
    "    classifier = MultinomialNB(alpha=i)\n",
    "    classifier.fit(X_tr1,y_train)\n",
    "\n",
    "    y_train_pred = classifier.predict_proba(X_tr1)[:,1] # only for positive class    \n",
    "    y_cv_pred = classifier.predict_proba(X_cv1)[:,1]\n",
    "\n",
    "    # roc_auc_score(y_true, y_score) the 2nd parameter should be probability estimates of the positive class\n",
    "    # not the predicted outputs        \n",
    "    train_auc.append(roc_auc_score(y_train,y_train_pred))\n",
    "    cv_auc.append(roc_auc_score(y_cv, y_cv_pred))\n",
    "\n"
   ]
  },
  {
   "cell_type": "code",
   "execution_count": 26,
   "metadata": {},
   "outputs": [],
   "source": [
    "# using log values of different values of alpha in list alp as to plot graphs to see the better results \n",
    "import math\n",
    "l = []\n",
    "for i in alp:\n",
    "    l.append(math.log(i,10))"
   ]
  },
  {
   "cell_type": "code",
   "execution_count": 27,
   "metadata": {},
   "outputs": [
    {
     "data": {
      "image/png": "[encoded data removed]",
      "text/plain": [
       "<Figure size 432x288 with 1 Axes>"
      ]
     },
     "metadata": {},
     "output_type": "display_data"
    }
   ],
   "source": [
    "plt.plot(l, train_auc, label='Train AUC')\n",
    "plt.plot(l, cv_auc, label='CV AUC')\n",
    "\n",
    "plt.scatter(l, train_auc, label='Train AUC points')\n",
    "plt.scatter(l, cv_auc, label='CV AUC points')\n",
    "\n",
    "plt.legend()\n",
    "plt.xlabel(\"alpha: hyperparameter\")\n",
    "plt.ylabel(\"AUC\")\n",
    "plt.title(\"ERROR PLOTS\")\n",
    "plt.grid()\n",
    "plt.show()"
   ]
  },
  {
   "cell_type": "markdown",
   "metadata": {},
   "source": [
    "#### best alpha for SET 1 = 1"
   ]
  },
  {
   "cell_type": "markdown",
   "metadata": {},
   "source": [
    "### 2.2)Finding best alpha for SET 2"
   ]
  },
  {
   "cell_type": "code",
   "execution_count": 28,
   "metadata": {},
   "outputs": [
    {
     "name": "stderr",
     "output_type": "stream",
     "text": [
      "100%|████████████████████████████████████████████████████████████████████████████████████| 6/6 [00:01<00:00,  4.67it/s]\n"
     ]
    }
   ],
   "source": [
    "train_auc = []\n",
    "cv_auc = []\n",
    "alp = [0.0001,0.001,0.01,0.1,1,10]\n",
    "for i in tqdm(alp):\n",
    "    classifier = MultinomialNB(alpha=i)\n",
    "    classifier.fit(X_tr2,y_train)\n",
    "\n",
    "    y_train_pred = classifier.predict_proba(X_tr2)[:,1]    \n",
    "    y_cv_pred = classifier.predict_proba(X_cv2)[:,1]\n",
    "\n",
    "    # roc_auc_score(y_true, y_score) the 2nd parameter should be probability estimates of the positive class\n",
    "    # not the predicted outputs        \n",
    "    train_auc.append(roc_auc_score(y_train,y_train_pred))\n",
    "    cv_auc.append(roc_auc_score(y_cv, y_cv_pred))\n",
    "\n"
   ]
  },
  {
   "cell_type": "code",
   "execution_count": 29,
   "metadata": {},
   "outputs": [],
   "source": [
    "# using log values of different values of alpha in list alp as to plot graphs to see the better results \n",
    "l = []\n",
    "for i in alp:\n",
    "    l.append(math.log(i,10))"
   ]
  },
  {
   "cell_type": "code",
   "execution_count": 30,
   "metadata": {},
   "outputs": [
    {
     "data": {
      "image/png": "[encoded data removed]",
      "text/plain": [
       "<Figure size 432x288 with 1 Axes>"
      ]
     },
     "metadata": {},
     "output_type": "display_data"
    }
   ],
   "source": [
    "plt.plot(l, train_auc, label='Train AUC')\n",
    "plt.plot(l, cv_auc, label='CV AUC')\n",
    "\n",
    "plt.scatter(l, train_auc, label='Train AUC points')\n",
    "plt.scatter(l, cv_auc, label='CV AUC points')\n",
    "\n",
    "plt.legend()\n",
    "plt.xlabel(\"alpha: hyperparameter\")\n",
    "plt.ylabel(\"AUC\")\n",
    "plt.title(\"ERROR PLOTS\")\n",
    "plt.grid()\n",
    "plt.show()"
   ]
  },
  {
   "cell_type": "markdown",
   "metadata": {},
   "source": [
    "#### best alpha for SET 2 = 0.1"
   ]
  },
  {
   "cell_type": "markdown",
   "metadata": {},
   "source": [
    "### 2.3)Testing the performance of the model on test data, plotting ROC Curves for SET 1"
   ]
  },
  {
   "cell_type": "code",
   "execution_count": 31,
   "metadata": {},
   "outputs": [
    {
     "data": {
      "image/png": "[encoded data removed]",
      "text/plain": [
       "<Figure size 432x288 with 1 Axes>"
      ]
     },
     "metadata": {},
     "output_type": "display_data"
    }
   ],
   "source": [
    "# https://scikit-learn.org/stable/modules/generated/sklearn.metrics.roc_curve.html#sklearn.metrics.roc_curve\n",
    "from sklearn.metrics import roc_curve, auc\n",
    "\n",
    "best_alpha = 1 # best alpha for SET 1 = 1 \n",
    "# For SET 1\n",
    "classifier = MultinomialNB(best_alpha)\n",
    "classifier.fit(X_tr1, y_train)\n",
    "# roc_auc_score(y_true, y_score) the 2nd parameter should be probability estimates of the positive class\n",
    "# not the predicted outputs\n",
    "\n",
    "y_train_pred = classifier.predict_proba(X_tr1)[:,1]    \n",
    "y_test_pred = classifier.predict_proba(X_test1)[:,1]\n",
    "\n",
    "auc_score_set1 = roc_auc_score(y_test,y_test_pred)\n",
    "\n",
    "train_fpr, train_tpr, tr_thresholds = roc_curve(y_train, y_train_pred)\n",
    "test_fpr, test_tpr, te_thresholds = roc_curve(y_test, y_test_pred)\n",
    "\n",
    "plt.plot(train_fpr, train_tpr, label=\"train AUC =\"+str(auc(train_fpr, train_tpr)))\n",
    "plt.plot(test_fpr, test_tpr, label=\"test AUC =\"+str(auc(test_fpr, test_tpr)))\n",
    "plt.legend()\n",
    "plt.xlabel(\"alpha: hyperparameter\")\n",
    "plt.ylabel(\"AUC\")\n",
    "plt.title(\"ERROR PLOTS\")\n",
    "plt.grid()\n",
    "plt.show()"
   ]
  },
  {
   "cell_type": "markdown",
   "metadata": {},
   "source": [
    "### 2.4)Testing the performance of the model on test data, plotting ROC Curves for SET 2"
   ]
  },
  {
   "cell_type": "code",
   "execution_count": 32,
   "metadata": {},
   "outputs": [
    {
     "data": {
      "image/png": "[encoded data removed]",
      "text/plain": [
       "<Figure size 432x288 with 1 Axes>"
      ]
     },
     "metadata": {},
     "output_type": "display_data"
    }
   ],
   "source": [
    "# https://scikit-learn.org/stable/modules/generated/sklearn.metrics.roc_curve.html#sklearn.metrics.roc_curve\n",
    "from sklearn.metrics import roc_curve, auc\n",
    "\n",
    "best_alpha = 0.1 #best alpha for SET 1 = 1\n",
    "# For SET 2\n",
    "classifier = MultinomialNB(best_alpha)\n",
    "classifier.fit(X_tr2, y_train)\n",
    "# roc_auc_score(y_true, y_score) the 2nd parameter should be probability estimates of the positive class\n",
    "# not the predicted outputs\n",
    "\n",
    "y_train_pred = classifier.predict_proba(X_tr2)[:,1]    \n",
    "y_test_pred = classifier.predict_proba(X_test2)[:,1]\n",
    "\n",
    "auc_score_set2 = roc_auc_score(y_test,y_test_pred)\n",
    "\n",
    "train_fpr, train_tpr, tr_thresholds = roc_curve(y_train, y_train_pred)\n",
    "test_fpr, test_tpr, te_thresholds = roc_curve(y_test, y_test_pred)\n",
    "\n",
    "plt.plot(train_fpr, train_tpr, label=\"train AUC =\"+str(auc(train_fpr, train_tpr)))\n",
    "plt.plot(test_fpr, test_tpr, label=\"test AUC =\"+str(auc(test_fpr, test_tpr)))\n",
    "plt.legend()\n",
    "plt.xlabel(\"alpha: hyperparameter\")\n",
    "plt.ylabel(\"AUC\")\n",
    "plt.title(\"ERROR PLOTS\")\n",
    "plt.grid()\n",
    "plt.show()"
   ]
  },
  {
   "cell_type": "markdown",
   "metadata": {},
   "source": [
    "## 3)Finding top 20 features from SET 1 using absolute values of `feature_log_prob_`"
   ]
  },
  {
   "cell_type": "code",
   "execution_count": 51,
   "metadata": {},
   "outputs": [],
   "source": [
    "classifier = MultinomialNB(alpha=1)\n",
    "classifier.fit(X_tr1,y_train)\n",
    "l = classifier.feature_log_prob_"
   ]
  },
  {
   "cell_type": "code",
   "execution_count": 39,
   "metadata": {},
   "outputs": [
    {
     "name": "stdout",
     "output_type": "stream",
     "text": [
      "[35206, 32080, 21184, 24358, 7253, 25089, 21168, 36803, 17213, 36682, 24444, 22503, 39892, 24622, 40596, 7727, 21941, 29727, 1127, 9696]\n",
      "[35206, 32080, 24358, 21184, 7253, 36682, 25089, 36803, 21168, 17213, 22503, 24444, 39892, 40596, 24622, 29727, 38934, 21941, 9696, 1127]\n",
      "[[35206, 32080, 21184, 24358, 7253, 25089, 21168, 36803, 17213, 36682, 24444, 22503, 39892, 24622, 40596, 7727, 21941, 29727, 1127, 9696], [35206, 32080, 24358, 21184, 7253, 36682, 25089, 36803, 21168, 17213, 22503, 24444, 39892, 40596, 24622, 29727, 38934, 21941, 9696, 1127]]\n"
     ]
    }
   ],
   "source": [
    "l = list(l)\n",
    "list2 = []\n",
    "for i in l:\n",
    "    l2 = []\n",
    "    l2.extend(sorted(range(len(i)), key=lambda j: i[j],reverse = True)[:20])\n",
    "    print(l2)\n",
    "    list2.append(l2)\n",
    "print(list2)  # list containing index top 20 values for both classes"
   ]
  },
  {
   "cell_type": "code",
   "execution_count": 40,
   "metadata": {},
   "outputs": [],
   "source": [
    "# since X_tr1 = hstack((X_tr_essay_bow, X_tr_state, X_tr_teacher_prefix, X_tr_grade,X_tr_clean_categories,X_tr_clean_subcategories,X_tr_price_norm,X_tr_teacher_number_of_previously_posted_projects_norm)).tocsr()\n",
    "# making list of features we have in according to X_tr1\n",
    "s = ['essay','school_state','teacher_prefix','project_grade_category','clean_categories','clean_subcategories']"
   ]
  },
  {
   "cell_type": "code",
   "execution_count": 41,
   "metadata": {},
   "outputs": [],
   "source": [
    "list1 = []\n",
    "for i in s:\n",
    "    vec = CountVectorizer()\n",
    "    vec.fit(X[i].values)\n",
    "    list1.extend(vec.get_feature_names()) # list containing feature names according to we have in X_tr1"
   ]
  },
  {
   "cell_type": "code",
   "execution_count": 42,
   "metadata": {},
   "outputs": [],
   "source": [
    "list1.extend(X['price'].values)\n",
    "list1.extend(X['teacher_number_of_previously_posted_projects'].values)"
   ]
  },
  {
   "cell_type": "code",
   "execution_count": 43,
   "metadata": {},
   "outputs": [],
   "source": [
    "l1 = []\n",
    "l2 = []\n",
    "for k,i in enumerate(list2):\n",
    "    for index,r in enumerate(list1):\n",
    "        for j in range(len(i)):\n",
    "            if index ==  i[j]:\n",
    "                if k == 0:\n",
    "                    l1.append(r) # For class 0\n",
    "                elif k == 1:\n",
    "                    l2.append(r) # For class 1    \n",
    "# getting feature names from both the classes 0 and 1"
   ]
  },
  {
   "cell_type": "code",
   "execution_count": 44,
   "metadata": {},
   "outputs": [
    {
     "name": "stdout",
     "output_type": "stream",
     "text": [
      "Top 20 features from class 0:\n",
      "['578', 'brainstem', 'buffalo', 'chosen', 'endeavours', 'garde', 'garish', 'gooders', 'groupwork', 'hs', 'humanoid', 'hygrometer', 'impelled', 'litters', 'microworlds', 'olympics', 'pathmy', 'pbskids', 'pubic', 'rangeland']\n",
      "Top 20 features from class 1:\n",
      "['578', 'brainstem', 'chosen', 'endeavours', 'garde', 'garish', 'gooders', 'groupwork', 'hs', 'humanoid', 'hygrometer', 'impelled', 'litters', 'microworlds', 'olympics', 'pathmy', 'pbskids', 'preferably', 'pubic', 'rangeland']\n"
     ]
    }
   ],
   "source": [
    "print(\"Top 20 features from class 0:\")\n",
    "print(l1)\n",
    "print(\"Top 20 features from class 1:\")\n",
    "print(l2)"
   ]
  },
  {
   "cell_type": "markdown",
   "metadata": {
    "colab_type": "text",
    "id": "lS9hIHdib3dp"
   },
   "source": [
    "## 4)Summary"
   ]
  },
  {
   "cell_type": "markdown",
   "metadata": {},
   "source": [
    "as mentioned in the step 5 of instructions"
   ]
  },
  {
   "cell_type": "code",
   "execution_count": 47,
   "metadata": {},
   "outputs": [
    {
     "name": "stdout",
     "output_type": "stream",
     "text": [
      "+------------+---------------+-----------------+--------------------+\n",
      "| Vectorizer |     Model     | Hyper Parameter |        AUC         |\n",
      "+------------+---------------+-----------------+--------------------+\n",
      "|    BOW     | MultinomialNB |        1        | 0.6982549798889793 |\n",
      "|   TFIDF    | MultinomialNB |       0.1       | 0.6660777059851921 |\n",
      "+------------+---------------+-----------------+--------------------+\n"
     ]
    }
   ],
   "source": [
    "# how to use pretty table : https://stackoverflow.com/questions/36423259/how-to-use-pretty-table-in-python-to-print-out-data-from-multiple-lists\n",
    "from prettytable import PrettyTable\n",
    "x = PrettyTable([\"Vectorizer\",\"Model\",\"Hyper Parameter\",\"AUC\"])\n",
    "x.add_row(['BOW','MultinomialNB',1,auc_score_set1])\n",
    "x.add_row(['TFIDF','MultinomialNB',0.1,auc_score_set2])\n",
    "print(x)"
   ]
  },
  {
   "cell_type": "code",
   "execution_count": null,
   "metadata": {},
   "outputs": [],
   "source": []
  }
 ],
 "metadata": {
  "colab": {
   "collapsed_sections": [],
   "name": "6_Assignment_NB_Instructions.ipynb",
   "provenance": [],
   "version": "0.3.2"
  },
  "kernelspec": {
   "display_name": "Python 3",
   "language": "python",
   "name": "python3"
  },
  "language_info": {
   "codemirror_mode": {
    "name": "ipython",
    "version": 3
   },
   "file_extension": ".py",
   "mimetype": "text/x-python",
   "name": "python",
   "nbconvert_exporter": "python",
   "pygments_lexer": "ipython3",
   "version": "3.6.5"
  }
 },
 "nbformat": 4,
 "nbformat_minor": 1
}
